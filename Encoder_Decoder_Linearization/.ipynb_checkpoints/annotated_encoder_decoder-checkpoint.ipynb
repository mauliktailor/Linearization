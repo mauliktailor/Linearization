{
 "cells": [
  {
   "cell_type": "code",
   "execution_count": 1,
   "metadata": {},
   "outputs": [],
   "source": [
    "from nltk.corpus import brown\n",
    "import torch\n",
    "from torch import LongTensor\n",
    "from torch.nn import Embedding, LSTM\n",
    "from torch.autograd import Variable\n",
    "from torch.nn.utils.rnn import pack_padded_sequence, pad_packed_sequence\n",
    "from gensim.models import KeyedVectors"
   ]
  },
  {
   "cell_type": "code",
   "execution_count": 2,
   "metadata": {},
   "outputs": [],
   "source": [
    "index_to_word = list(set(brown.words()))\n",
    "word_to_index = dict()\n",
    "for index, word in enumerate(index_to_word):\n",
    "    word_to_index[word] = index+2"
   ]
  },
  {
   "cell_type": "code",
   "execution_count": 3,
   "metadata": {},
   "outputs": [
    {
     "name": "stderr",
     "output_type": "stream",
     "text": [
      "/home/development/kevin/installations/anaconda3/lib/python3.5/site-packages/ipykernel/__main__.py:3: DeprecationWarning: Call to deprecated `syn0` (Attribute will be removed in 4.0.0, use self.wv.vectors instead).\n",
      "  app.launch_new_instance()\n"
     ]
    }
   ],
   "source": [
    "vectors = KeyedVectors.load_word2vec_format('/home/development/kevin/../girish/word-embeddings/GoogleNews-vectors-negative300.bin', binary=True)\n",
    "E = np.zeros((len(word_to_index)+2, 300))\n",
    "avg_vec = np.mean(vectors.syn0, axis=0)\n",
    "for word in word_to_index:\n",
    "    if word in vectors:\n",
    "        E[word_to_index[word]] = vectors[word]\n",
    "    else:\n",
    "        E[word_to_index[word]] = avg_vec\n",
    "E = torch.from_numpy(E)\n",
    "# E[1] = avg_vec"
   ]
  },
  {
   "cell_type": "code",
   "execution_count": 59,
   "metadata": {},
   "outputs": [],
   "source": [
    "list_of_sents_trg = []\n",
    "for sent in brown.sents():\n",
    "    if len(sent) > 30:\n",
    "        continue\n",
    "    single_sent=[]\n",
    "    for word in sent:\n",
    "        single_sent.append(word_to_index[word])\n",
    "    list_of_sents_trg.append(single_sent)"
   ]
  },
  {
   "cell_type": "code",
   "execution_count": 60,
   "metadata": {},
   "outputs": [],
   "source": [
    "list_of_sents_src = []\n",
    "f= open(\"shuffle.txt\", \"r\")\n",
    "for s in f:\n",
    "    single_sent=[]\n",
    "    sent = s.split(' ')[:-1]\n",
    "    if len(sent) > 30:\n",
    "        continue\n",
    "    for word in sent:\n",
    "        single_sent.append(word_to_index[word])\n",
    "    list_of_sents_src.append(single_sent)"
   ]
  },
  {
   "cell_type": "code",
   "execution_count": 61,
   "metadata": {},
   "outputs": [
    {
     "name": "stdout",
     "output_type": "stream",
     "text": [
      "Hidden\n",
      "$8.5\n",
      "resistive\n",
      "thin\n",
      "transcript\n",
      "scornfully\n",
      "1.00\n",
      "'30s\n",
      "pantheon\n",
      "lifeboat\n",
      "Victory\n",
      "Inter-American\n",
      "ante\n",
      "Hausman's\n",
      "Shakya\n",
      "murmured\n",
      "whit\n",
      "Kedzie\n",
      "watchful\n",
      "centerline\n",
      "1601\n",
      "presumptions\n",
      "minimize\n",
      "Petermann\n",
      "slinging\n",
      "-----------\n"
     ]
    }
   ],
   "source": [
    "for w in list_of_sents_src[0]:\n",
    "    print(index_to_word[w])\n",
    "print('-----------')\n",
    "\n",
    "    "
   ]
  },
  {
   "cell_type": "code",
   "execution_count": 62,
   "metadata": {},
   "outputs": [],
   "source": [
    "# max1 = 0\n",
    "# for sent in list_of_sents_src:\n",
    "#     if(len(sent)>= max1):\n",
    "#         max1= len(sent)\n",
    "# print(max1)\n",
    "# print(len(list_of_sents_src))"
   ]
  },
  {
   "cell_type": "code",
   "execution_count": 63,
   "metadata": {},
   "outputs": [],
   "source": [
    "def data_gen1(list_of_sents_src, list_of_sents_trg, num_words=11, batch_size=16, num_batches=100, length=30, pad_index=0, sos_index=1):\n",
    "    \"\"\"Generate random data for a src-tgt copy task.\"\"\"\n",
    "#     print('see hte length is ',len(list_of_sents_src[0]))#if less then or = 25 catch list_of_sents_src\n",
    "    index=0\n",
    "    for i in range(num_batches):\n",
    "        temp=[]\n",
    "        for sent in list_of_sents_src[index:index+(batch_size)]:\n",
    "#             temp.append([1]+sent+np.zeros((length-len(sent)-1), dtype=int).tolist())\n",
    "            temp.append([1]+sent)\n",
    "        \n",
    "        seq_lengths = LongTensor(list(map(len, temp)))\n",
    "        seq_tensor = Variable(torch.zeros((len(temp), seq_lengths.max()))).long()\n",
    "        for idx, (seq, seqlen) in enumerate(zip(temp, seq_lengths)):\n",
    "            seq_tensor[idx, :seqlen] = LongTensor(seq)\n",
    "        seq_lengths, perm_idx = seq_lengths.sort(0, descending=True)\n",
    "        #print('Perm Index for src', perm_idx)\n",
    "        seq_tensor = seq_tensor[perm_idx]\n",
    "#         data = torch.from_numpy(np.array(temp))\n",
    "        data = torch.from_numpy(np.array(seq_tensor))\n",
    "        \n",
    "        data = data.cuda(device=1) if USE_CUDA else data\n",
    "        src = data[:, 1:]\n",
    "        \n",
    "        temp=[]\n",
    "        for sent in list_of_sents_trg[index:index+(batch_size)]:\n",
    "#             temp.append(sent+np.zeros((length-len(sent)), dtype=int).tolist())\n",
    "            temp.append([1]+sent)\n",
    "        \n",
    "#         input_list = temp[31]\n",
    "#         input_words = []\n",
    "#         for w in input_list:\n",
    "#             input_words.append(index_to_word[w])\n",
    "#         print(input_words,len(input_words))\n",
    "        \n",
    "        seq_lengths = LongTensor(list(map(len, temp)))\n",
    "        seq_tensor = Variable(torch.zeros((len(temp), seq_lengths.max()))).long()\n",
    "        for idx, (seq, seqlen) in enumerate(zip(temp, seq_lengths)):\n",
    "            seq_tensor[idx, :seqlen] = LongTensor(seq)\n",
    "        seq_lengths, perm_idx = seq_lengths.sort(0, descending=True)\n",
    "        #print('Perm Index for trg', perm_idx)\n",
    "        seq_tensor = seq_tensor[perm_idx]\n",
    "#         data = torch.from_numpy(np.array(temp))\n",
    "        data = torch.from_numpy(np.array(seq_tensor))\n",
    "        trg = data\n",
    "#         print(src.size(), trg.size())\n",
    "#         print(length-1, data.size(1)-1)\n",
    "#         src_lengths = [length-1] * batch_size\n",
    "#         trg_lengths = [length] * batch_size\n",
    "        src_lengths = [src.size(1)] * batch_size\n",
    "        trg_lengths = [trg.size(1)] * batch_size\n",
    "        index = batch_size\n",
    "        yield Batch((src, src_lengths), (trg, trg_lengths), pad_index=pad_index)"
   ]
  },
  {
   "cell_type": "code",
   "execution_count": 64,
   "metadata": {},
   "outputs": [],
   "source": [
    "length = len(list_of_sents_src)\n",
    "# list_of_sents_src_train, list_of_sents_src_test = list_of_sents_src[:int(0.7*length)], list_of_sents_src[int(0.7*length):]\n",
    "# list_of_sents_trg_train, list_of_sents_trg_test = list_of_sents_trg[:int(0.7*length)], list_of_sents_trg[int(0.7*length):]\n",
    "\n",
    "# list_of_sents_src_train, list_of_sents_src_test = list_of_sents_src[int(0.3*length):], list_of_sents_src[:int(0.3*length)]\n",
    "# list_of_sents_trg_train, list_of_sents_trg_test = list_of_sents_trg[int(0.3*length):], list_of_sents_trg[:int(0.3*length)]\n",
    "\n",
    "list_of_sents_src_train, list_of_sents_src_test = list_of_sents_src[int(0.15*length):int(0.85*length)], list_of_sents_src[:int(0.15*length)]+list_of_sents_src[int(0.85*length):]\n",
    "list_of_sents_trg_train, list_of_sents_trg_test = list_of_sents_trg[int(0.15*length):int(0.85*length)], list_of_sents_trg[:int(0.15*length)]+list_of_sents_src[int(0.85*length):]"
   ]
  },
  {
   "cell_type": "markdown",
   "metadata": {},
   "source": [
    "# The Annotated Encoder-Decoder with Attention\n",
    "\n",
    "Recently, Alexander Rush wrote a blog post called [The Annotated Transformer](http://nlp.seas.harvard.edu/2018/04/03/attention.html), describing the Transformer model from the paper [Attention is All You Need](https://arxiv.org/abs/1706.03762). This post can be seen as a **prequel** to that: *we will implement an Encoder-Decoder with Attention* using (Gated) Recurrent Neural Networks, very closely following the original attention-based neural machine translation paper [\"Neural Machine Translation by Jointly Learning to Align and Translate\"](https://arxiv.org/abs/1409.0473) of Bahdanau et al. (2015). \n",
    "\n",
    "The idea is that going through both blog posts will make you familiar with two very influential sequence-to-sequence architectures. If you have any comments or suggestions, please let me know on Twitter [@joostbastings](https://twitter.com/joostbastings) or e-mail me at *firstname dot lastname @ gmail dot com*."
   ]
  },
  {
   "cell_type": "markdown",
   "metadata": {},
   "source": [
    "# Model Architecture\n",
    "\n",
    "We will model the probability $p(Y\\mid X)$ of a target sequence $Y=(y_1, \\dots, y_{N})$ given a source sequence $X=(x_1, \\dots, x_M)$ directly with a neural network: an Encoder-Decoder.\n",
    "\n",
    "<img src=\"images/bahdanau.png\" width=\"636\">\n",
    "\n",
    "#### Encoder \n",
    "\n",
    "The encoder reads in the source sentence (*at the bottom of the figure*) and produces a sequence of hidden states $\\mathbf{h}_1, \\dots, \\mathbf{h}_M$, one for each source word. These states should capture the meaning of a word in its context of the given sentence.\n",
    "\n",
    "We will use a bi-directional recurrent neural network (Bi-RNN) as the encoder; a Bi-GRU in particular.\n",
    "\n",
    "First of all we **embed** the source words. \n",
    "We simply look up the **word embedding** for each word in a (randomly initialized) lookup table.\n",
    "We will denote the word embedding for word $i$ in a given sentence with $\\mathbf{x}_i$.\n",
    "By embedding words, our model may exploit the fact that certain words (e.g. *cat* and *dog*) are semantically similar, and can be processed in a similar way.\n",
    "\n",
    "Now, how do we get hidden states $\\mathbf{h}_1, \\dots, \\mathbf{h}_M$? A forward GRU reads the source sentence left-to-right, while a backward GRU reads it right-to-left.\n",
    "Each of them follows a simple recursive formula: \n",
    "$$\\mathbf{h}_j = \\text{GRU}( \\mathbf{x}_j , \\mathbf{h}_{j - 1} )$$\n",
    "i.e. we obtain the next state from the previous state and the current input word embedding.\n",
    "\n",
    "The hidden state of the forward GRU at time step $j$ will know what words **precede** the word at that time step, but it doesn't know what words will follow. In contrast, the backward GRU will only know what words **follow** the word at time step $j$. By **concatenating** those two hidden states (*shown in blue in the figure*), we get $\\mathbf{h}_j$, which captures word $j$ in its full sentence context.\n",
    "\n",
    "\n",
    "#### Decoder \n",
    "\n",
    "The decoder (*at the top of the figure*) is a GRU with hidden state $\\mathbf{s_i}$. It follows a similar formula to the encoder, but takes one extra input $\\mathbf{c}_{i}$ (*shown in yellow*).\n",
    "\n",
    "$$\\mathbf{s}_{i} = f( \\mathbf{s}_{i - 1}, \\mathbf{y}_{i - 1}, \\mathbf{c}_i )$$\n",
    "\n",
    "Here, $\\mathbf{y}_{i - 1}$ is the previously generated target word (*not shown*).\n",
    "\n",
    "At each time step, an **attention mechanism** dynamically selects that part of the source sentence that is most relevant for predicting the current target word. It does so by comparing the last decoder state with each source hidden state. The result is a context vector $\\mathbf{c_i}$ (*shown in yellow*).\n",
    "Later the attention mechanism is explained in more detail.\n",
    "\n",
    "After computing the decoder state $\\mathbf{s}_i$, a non-linear function $g$ (which applies a [softmax](https://en.wikipedia.org/wiki/Softmax_function)) gives us the probability of the target word $y_i$ for this time step:\n",
    "\n",
    "$$ p(y_i \\mid y_{<i}, x_1^M) = g(\\mathbf{s}_i, \\mathbf{c}_i, \\mathbf{y}_{i - 1})$$\n",
    "\n",
    "Because $g$ applies a softmax, it provides a vector the size of the output vocabulary that sums to 1.0: it is a distribution over all target words. During test time, we would select the word with the highest probability for our translation.\n",
    "\n",
    "Now, for optimization, a [cross-entropy loss](https://ml-cheatsheet.readthedocs.io/en/latest/loss_functions.html#cross-entropy) is used to maximize the probability of selecting the correct word at this time step. All parameters (including word embeddings) are then updated to maximize this probability.\n",
    "\n"
   ]
  },
  {
   "cell_type": "markdown",
   "metadata": {},
   "source": [
    "# Prelims\n",
    "\n",
    "This tutorial requires **PyTorch >= 0.4.1** and was tested with **Python 3.6**.  \n",
    "\n",
    "Make sure you have those versions, and install the packages below if you don't have them yet."
   ]
  },
  {
   "cell_type": "code",
   "execution_count": 65,
   "metadata": {},
   "outputs": [],
   "source": [
    "#!pip install torch numpy matplotlib sacrebleu"
   ]
  },
  {
   "cell_type": "code",
   "execution_count": 66,
   "metadata": {},
   "outputs": [
    {
     "name": "stdout",
     "output_type": "stream",
     "text": [
      "CUDA: True\n",
      "cuda:0\n"
     ]
    }
   ],
   "source": [
    "%matplotlib inline\n",
    "import numpy as np\n",
    "import torch\n",
    "import torch.nn as nn\n",
    "import torch.nn.functional as F\n",
    "import math, copy, time\n",
    "import matplotlib.pyplot as plt\n",
    "from torch.nn.utils.rnn import pack_padded_sequence, pad_packed_sequence\n",
    "from IPython.core.debugger import set_trace\n",
    "\n",
    "# we will use CUDA if it is available\n",
    "USE_CUDA = torch.cuda.is_available()\n",
    "DEVICE=torch.device('cuda:0') # or set to 'cpu'\n",
    "print(\"CUDA:\", USE_CUDA)\n",
    "print(DEVICE)\n",
    "\n",
    "seed = 42\n",
    "np.random.seed(seed)\n",
    "torch.manual_seed(seed)\n",
    "torch.cuda.manual_seed(seed)"
   ]
  },
  {
   "cell_type": "markdown",
   "metadata": {},
   "source": [
    "# Let's start coding!\n",
    "\n",
    "## Model class\n",
    "\n",
    "Our base model class `EncoderDecoder` is very similar to the one in *The Annotated Transformer*.\n",
    "\n",
    "One difference is that our encoder also returns its final states (`encoder_final` below), which is used to initialize the decoder RNN. We also provide the sequence lengths as the RNNs require those."
   ]
  },
  {
   "cell_type": "code",
   "execution_count": 67,
   "metadata": {},
   "outputs": [],
   "source": [
    "class EncoderDecoder(nn.Module):\n",
    "    \"\"\"\n",
    "    A standard Encoder-Decoder architecture. Base for this and many \n",
    "    other models.\n",
    "    \"\"\"\n",
    "    def __init__(self, encoder, decoder, src_embed, trg_embed, generator):\n",
    "        super(EncoderDecoder, self).__init__()\n",
    "        self.encoder = encoder\n",
    "        self.decoder = decoder\n",
    "        self.src_embed = src_embed\n",
    "        self.src_embed.weight.data.copy_(E)\n",
    "        self.trg_embed = trg_embed\n",
    "        self.trg_embed.weight.data.copy_(E)\n",
    "        self.generator = generator\n",
    "        \n",
    "    def forward(self, src, trg, src_mask, trg_mask, src_lengths, trg_lengths):\n",
    "        \"\"\"Take in and process masked src and target sequences.\"\"\"\n",
    "        encoder_hidden, encoder_final = self.encode(src, src_mask, src_lengths)\n",
    "        return self.decode(encoder_hidden, encoder_final, src_mask, trg, trg_mask)\n",
    "    \n",
    "    def encode(self, src, src_mask, src_lengths):\n",
    "        return self.encoder(self.src_embed(src), src_mask, src_lengths)\n",
    "    \n",
    "    def decode(self, encoder_hidden, encoder_final, src_mask, trg, trg_mask,\n",
    "               decoder_hidden=None):\n",
    "        return self.decoder(self.trg_embed(trg), encoder_hidden, encoder_final,\n",
    "                            src_mask, trg_mask, hidden=decoder_hidden)"
   ]
  },
  {
   "cell_type": "markdown",
   "metadata": {},
   "source": [
    "To keep things easy we also keep the `Generator` class the same. \n",
    "It simply projects the pre-output layer ($x$ in the `forward` function below) to obtain the output layer, so that the final dimension is the target vocabulary size."
   ]
  },
  {
   "cell_type": "code",
   "execution_count": 68,
   "metadata": {},
   "outputs": [],
   "source": [
    "class Generator(nn.Module):\n",
    "    \"\"\"Define standard linear + softmax generation step.\"\"\"\n",
    "    def __init__(self, hidden_size, vocab_size):\n",
    "        super(Generator, self).__init__()\n",
    "        self.proj = nn.Linear(hidden_size, vocab_size, bias=False)\n",
    "\n",
    "    def forward(self, x):\n",
    "        return F.log_softmax(self.proj(x), dim=-1)"
   ]
  },
  {
   "cell_type": "markdown",
   "metadata": {},
   "source": [
    "## Encoder\n",
    "\n",
    "Our encoder is a bi-directional GRU. \n",
    "\n",
    "Because we want to process multiple sentences at the same time for speed reasons (it is more effcient on GPU), we need to support **mini-batches**. Sentences in a mini-batch may have different lengths, which means that the RNN needs to unroll further for certain sentences while it might already have finished for others:\n",
    "\n",
    "```\n",
    "Example: mini-batch with 3 source sentences of different lengths (7, 5, and 3).\n",
    "End-of-sequence is marked with a \"3\" here, and padding positions with \"1\".\n",
    "\n",
    "+---------------+\n",
    "| 4 5 9 8 7 8 3 |\n",
    "+---------------+\n",
    "| 5 4 8 7 3 1 1 |\n",
    "+---------------+\n",
    "| 5 8 3 1 1 1 1 |\n",
    "+---------------+\n",
    "```\n",
    "You can see that, when computing hidden states for this mini-batch, for sentence #2 and #3 we will need to stop updating the hidden state after we have encountered \"3\". We don't want to incorporate the padding values (1s).\n",
    "\n",
    "Luckily, PyTorch has convenient helper functions called `pack_padded_sequence` and `pad_packed_sequence`.\n",
    "These functions take care of masking and padding, so that the resulting word representations are simply zeros after a sentence stops.\n",
    "\n",
    "The code below reads in a source sentence (a sequence of word embeddings) and produces the hidden states.\n",
    "It also returns a final vector, a summary of the complete sentence, by concatenating the first and the last hidden states (they have both seen the whole sentence, each in a different direction). We will use the final vector to initialize the decoder."
   ]
  },
  {
   "cell_type": "code",
   "execution_count": 69,
   "metadata": {},
   "outputs": [],
   "source": [
    "class Encoder(nn.Module):\n",
    "    \"\"\"Encodes a sequence of word embeddings\"\"\"\n",
    "    def __init__(self, input_size, hidden_size, num_layers=1, dropout=0.):\n",
    "        super(Encoder, self).__init__()\n",
    "        self.num_layers = num_layers\n",
    "        self.rnn = nn.GRU(input_size, hidden_size, num_layers, \n",
    "                          batch_first=True, bidirectional=True, dropout=dropout)\n",
    "        \n",
    "    def forward(self, x, mask, lengths):\n",
    "        \"\"\"\n",
    "        Applies a bidirectional GRU to sequence of embeddings x.\n",
    "        The input mini-batch x needs to be sorted by length.\n",
    "        x should have dimensions [batch, time, dim].\n",
    "        \"\"\"\n",
    "        packed = pack_padded_sequence(x, lengths, batch_first=True)\n",
    "        output, final = self.rnn(packed)\n",
    "        output, _ = pad_packed_sequence(output, batch_first=True)\n",
    "\n",
    "        # we need to manually concatenate the final states for both directions\n",
    "        fwd_final = final[0:final.size(0):2]\n",
    "        bwd_final = final[1:final.size(0):2]\n",
    "        final = torch.cat([fwd_final, bwd_final], dim=2)  # [num_layers, batch, 2*dim]\n",
    "\n",
    "#         print('Inside encoder forward', output.size(), final.size())\n",
    "        return output, final"
   ]
  },
  {
   "cell_type": "markdown",
   "metadata": {},
   "source": [
    "### Decoder\n",
    "\n",
    "The decoder is a conditional GRU. Rather than starting with an empty state like the encoder, its initial hidden state results from a projection of the encoder final vector. \n",
    "\n",
    "#### Training\n",
    "In `forward` you can find a for-loop that computes the decoder hidden states one time step at a time. \n",
    "Note that, during training, we know exactly what the target words should be! (They are in `trg_embed`.) This means that we are not even checking here what the prediction is! We simply feed the correct previous target word embedding to the GRU at each time step. This is called teacher forcing.\n",
    "\n",
    "The `forward` function returns all decoder hidden states and pre-output vectors. Elsewhere these are used to compute the loss, after which the parameters are updated.\n",
    "\n",
    "#### Prediction\n",
    "For prediction time, for forward function is only used for a single time step. After predicting a word from the returned pre-output vector, we can call it again, supplying it the word embedding of the previously predicted word and the last state."
   ]
  },
  {
   "cell_type": "code",
   "execution_count": 70,
   "metadata": {},
   "outputs": [],
   "source": [
    "class Decoder(nn.Module):\n",
    "    \"\"\"A conditional RNN decoder with attention.\"\"\"\n",
    "    \n",
    "    def __init__(self, emb_size, hidden_size, attention, num_layers=1, dropout=0.5,\n",
    "                 bridge=True):\n",
    "        super(Decoder, self).__init__()\n",
    "        \n",
    "        self.hidden_size = hidden_size\n",
    "        self.num_layers = num_layers\n",
    "        self.attention = attention\n",
    "        self.dropout = dropout\n",
    "                 \n",
    "        self.rnn = nn.GRU(emb_size + 2*hidden_size, hidden_size, num_layers,\n",
    "                          batch_first=True, dropout=dropout)\n",
    "                 \n",
    "        # to initialize from the final encoder state\n",
    "        self.bridge = nn.Linear(2*hidden_size, hidden_size, bias=True) if bridge else None\n",
    "\n",
    "        self.dropout_layer = nn.Dropout(p=dropout)\n",
    "        self.pre_output_layer = nn.Linear(hidden_size + 2*hidden_size + emb_size,\n",
    "                                          hidden_size, bias=False)\n",
    "        \n",
    "    def forward_step(self, prev_embed, encoder_hidden, src_mask, proj_key, hidden):\n",
    "        \"\"\"Perform a single decoder step (1 word)\"\"\"\n",
    "\n",
    "        # compute context vector using attention mechanism\n",
    "#         print(hidden.size())\n",
    "        query = hidden[-1].unsqueeze(1)  # [#layers, B, D] -> [B, 1, D]\n",
    "#         print('Inside forward step')\n",
    "#         print(query.size())\n",
    "#         print(proj_key.size())\n",
    "        context, attn_probs = self.attention(\n",
    "            query=query, proj_key=proj_key,\n",
    "            value=encoder_hidden, mask=src_mask)\n",
    "\n",
    "        # update rnn hidden state\n",
    "#         print(prev_embed.size(), context.size())\n",
    "        rnn_input = torch.cat([prev_embed, context], dim=2)\n",
    "        output, hidden = self.rnn(rnn_input, hidden)\n",
    "        \n",
    "        pre_output = torch.cat([prev_embed, output, context], dim=2)\n",
    "        pre_output = self.dropout_layer(pre_output)\n",
    "        pre_output = self.pre_output_layer(pre_output)\n",
    "\n",
    "        return output, hidden, pre_output\n",
    "    \n",
    "    def forward(self, trg_embed, encoder_hidden, encoder_final, \n",
    "                src_mask, trg_mask, hidden=None, max_len=None):\n",
    "        \"\"\"Unroll the decoder one step at a time.\"\"\"\n",
    "        \n",
    "#         print('Inside forward: ', trg_embed.size())\n",
    "        # the maximum number of steps to unroll the RNN\n",
    "        if max_len is None:\n",
    "            max_len = trg_mask.size(-1)\n",
    "\n",
    "        # initialize decoder hidden state\n",
    "        if hidden is None:\n",
    "            hidden = self.init_hidden(encoder_final)\n",
    "        \n",
    "        # pre-compute projected encoder hidden states\n",
    "        # (the \"keys\" for the attention mechanism)\n",
    "        # this is only done for efficiency\n",
    "#         print('Inside forward')\n",
    "#         print(encoder_hidden.size())\n",
    "        proj_key = self.attention.key_layer(encoder_hidden)\n",
    "#         print(proj_key.size())\n",
    "        # here we store all intermediate hidden states and pre-output vectors\n",
    "        decoder_states = []\n",
    "        pre_output_vectors = []\n",
    "        \n",
    "        # unroll the decoder RNN for max_len steps\n",
    "        for i in range(max_len):\n",
    "#             print('Inside unroll')\n",
    "            prev_embed = trg_embed[:, i].unsqueeze(1)\n",
    "            output, hidden, pre_output = self.forward_step(\n",
    "              prev_embed, encoder_hidden, src_mask, proj_key, hidden)\n",
    "            decoder_states.append(output)\n",
    "            pre_output_vectors.append(pre_output)\n",
    "\n",
    "        decoder_states = torch.cat(decoder_states, dim=1)\n",
    "        pre_output_vectors = torch.cat(pre_output_vectors, dim=1)\n",
    "        return decoder_states, hidden, pre_output_vectors  # [B, N, D]\n",
    "\n",
    "    def init_hidden(self, encoder_final):\n",
    "        \"\"\"Returns the initial decoder state,\n",
    "        conditioned on the final encoder state.\"\"\"\n",
    "\n",
    "        if encoder_final is None:\n",
    "            return None  # start with zeros\n",
    "\n",
    "        return torch.tanh(self.bridge(encoder_final))            \n"
   ]
  },
  {
   "cell_type": "markdown",
   "metadata": {},
   "source": [
    "### Attention                                                                                                                                                                               \n",
    "\n",
    "At every time step, the decoder has access to *all* source word representations $\\mathbf{h}_1, \\dots, \\mathbf{h}_M$. \n",
    "An attention mechanism allows the model to focus on the currently most relevant part of the source sentence.\n",
    "The state of the decoder is represented by GRU hidden state $\\mathbf{s}_i$.\n",
    "So if we want to know which source word representation(s) $\\mathbf{h}_j$ are most relevant, we will need to define a function that takes those two things as input.\n",
    "\n",
    "Here we use the MLP-based, additive attention that was used in Bahdanau et al.:\n",
    "\n",
    "<img src=\"images/attention.png\" width=\"280\">\n",
    "\n",
    "\n",
    "We apply an MLP with tanh-activation to both the current decoder state $\\bf s_i$ (the *query*) and each encoder state $\\bf h_j$ (the *key*), and then project this to a single value (i.e. a scalar) to get the *attention energy* $e_{ij}$. \n",
    "\n",
    "Once all energies are computed, they are normalized by a softmax so that they sum to one: \n",
    "\n",
    "$$ \\alpha_{ij} = \\text{softmax}(\\mathbf{e}_i)[j] $$\n",
    "\n",
    "$$\\sum_j \\alpha_{ij} = 1.0$$ \n",
    "\n",
    "The context vector for time step $i$ is then a weighted sum of the encoder hidden states (the *values*):\n",
    "$$\\mathbf{c}_i = \\sum_j \\alpha_{ij} \\mathbf{h}_j$$"
   ]
  },
  {
   "cell_type": "code",
   "execution_count": 71,
   "metadata": {},
   "outputs": [],
   "source": [
    "class BahdanauAttention(nn.Module):\n",
    "    \"\"\"Implements Bahdanau (MLP) attention\"\"\"\n",
    "    \n",
    "    def __init__(self, hidden_size, key_size=None, query_size=None):\n",
    "        super(BahdanauAttention, self).__init__()\n",
    "        \n",
    "        # We assume a bi-directional encoder so key_size is 2*hidden_size\n",
    "        key_size = 2 * hidden_size if key_size is None else key_size\n",
    "        query_size = hidden_size if query_size is None else query_size\n",
    "\n",
    "        self.key_layer = nn.Linear(key_size, hidden_size, bias=False)\n",
    "        self.query_layer = nn.Linear(query_size, hidden_size, bias=False)\n",
    "        self.energy_layer = nn.Linear(hidden_size, 1, bias=False)\n",
    "        \n",
    "        # to store attention scores\n",
    "        self.alphas = None\n",
    "        \n",
    "    def forward(self, query=None, proj_key=None, value=None, mask=None):\n",
    "        assert mask is not None, \"mask is required\"\n",
    "\n",
    "        # We first project the query (the decoder state).\n",
    "        # The projected keys (the encoder states) were already pre-computated.\n",
    "        query = self.query_layer(query)\n",
    "        \n",
    "        # Calculate scores.\n",
    "        scores = self.energy_layer(torch.tanh(query + proj_key))\n",
    "        scores = scores.squeeze(2).unsqueeze(1)\n",
    "        \n",
    "        # Mask out invalid positions.\n",
    "        # The mask marks valid positions so we invert it using `mask & 0`.\n",
    "        scores.data.masked_fill_(mask == 0, -float('inf'))\n",
    "        \n",
    "        # Turn scores to probabilities.\n",
    "        alphas = F.softmax(scores, dim=-1)\n",
    "        self.alphas = alphas        \n",
    "        \n",
    "        # The context vector is the weighted sum of the values.\n",
    "        context = torch.bmm(alphas, value)\n",
    "        \n",
    "        # context shape: [B, 1, 2D], alphas shape: [B, 1, M]\n",
    "        return context, alphas"
   ]
  },
  {
   "cell_type": "markdown",
   "metadata": {},
   "source": [
    "## Embeddings and Softmax                                                                                                                                                                                                                                                                                           \n",
    "We use learned embeddings to convert the input tokens and output tokens to vectors of dimension `emb_size`.\n",
    "\n",
    "We will simply use PyTorch's [nn.Embedding](https://pytorch.org/docs/stable/nn.html?highlight=embedding#torch.nn.Embedding) class."
   ]
  },
  {
   "cell_type": "markdown",
   "metadata": {},
   "source": [
    "## Full Model\n",
    "\n",
    "Here we define a function from hyperparameters to a full model. "
   ]
  },
  {
   "cell_type": "code",
   "execution_count": 72,
   "metadata": {},
   "outputs": [],
   "source": [
    "def make_model(src_vocab, tgt_vocab, emb_size=100, hidden_size=100, num_layers=1, dropout=0.1):\n",
    "    \"Helper: Construct a model from hyperparameters.\"\n",
    "\n",
    "    attention = BahdanauAttention(hidden_size)\n",
    "\n",
    "    model = EncoderDecoder(\n",
    "        Encoder(emb_size, hidden_size, num_layers=num_layers, dropout=dropout),\n",
    "        Decoder(emb_size, hidden_size, attention, num_layers=num_layers, dropout=dropout),\n",
    "        nn.Embedding(src_vocab, emb_size),\n",
    "        nn.Embedding(tgt_vocab, emb_size),\n",
    "        Generator(hidden_size, tgt_vocab))\n",
    "\n",
    "    return model.cuda(device=1) if USE_CUDA else model"
   ]
  },
  {
   "cell_type": "markdown",
   "metadata": {},
   "source": [
    "# Training\n",
    "\n",
    "This section describes the training regime for our models."
   ]
  },
  {
   "cell_type": "markdown",
   "metadata": {},
   "source": [
    "We stop for a quick interlude to introduce some of the tools \n",
    "needed to train a standard encoder decoder model. First we define a batch object that holds the src and target sentences for training, as well as their lengths and masks. "
   ]
  },
  {
   "cell_type": "markdown",
   "metadata": {},
   "source": [
    "## Batches and Masking"
   ]
  },
  {
   "cell_type": "code",
   "execution_count": 73,
   "metadata": {},
   "outputs": [],
   "source": [
    "class Batch:\n",
    "    \"\"\"Object for holding a batch of data with mask during training.\n",
    "    Input is a batch from a torch text iterator.\n",
    "    \"\"\"\n",
    "    def __init__(self, src, trg, pad_index=0):\n",
    "        \n",
    "        src, src_lengths = src\n",
    "        \n",
    "        self.src = src\n",
    "        self.src_lengths = src_lengths\n",
    "        self.src_mask = (src != pad_index).unsqueeze(-2)\n",
    "        self.nseqs = src.size(0)\n",
    "        \n",
    "        self.trg = None\n",
    "        self.trg_y = None\n",
    "        self.trg_mask = None\n",
    "        self.trg_lengths = None\n",
    "        self.ntokens = None\n",
    "\n",
    "        if trg is not None:\n",
    "            trg, trg_lengths = trg\n",
    "#             self.trg = trg[:, :-1]\n",
    "            self.trg = trg\n",
    "            self.trg_lengths = trg_lengths\n",
    "            self.trg_y = trg[:, 1:]\n",
    "            self.trg_mask = (self.trg_y != pad_index)\n",
    "            self.ntokens = (self.trg_y != pad_index).data.sum().item()\n",
    "        \n",
    "        if USE_CUDA:\n",
    "            self.src = self.src.cuda(device=1)\n",
    "            self.src_mask = self.src_mask.cuda(device=1)\n",
    "\n",
    "            if trg is not None:\n",
    "                self.trg = self.trg.cuda(device=1)\n",
    "                self.trg_y = self.trg_y.cuda(device=1)\n",
    "                self.trg_mask = self.trg_mask.cuda(device=1)\n",
    "                "
   ]
  },
  {
   "cell_type": "markdown",
   "metadata": {},
   "source": [
    "## Training Loop\n",
    "The code below trains the model for 1 epoch (=1 pass through the training data)."
   ]
  },
  {
   "cell_type": "code",
   "execution_count": 74,
   "metadata": {},
   "outputs": [],
   "source": [
    "def run_epoch(data_iter, model, loss_compute, print_every=50):\n",
    "    \"\"\"Standard Training and Logging Function\"\"\"\n",
    "\n",
    "    start = time.time()\n",
    "    total_tokens = 0\n",
    "    total_loss = 0\n",
    "    print_tokens = 0\n",
    "\n",
    "    for i, batch in enumerate(data_iter, 1):\n",
    "#         print(batch.src.size())\n",
    "#         print(batch.trg.size())\n",
    "#         print(batch.src_mask.size())\n",
    "#         print(batch.trg_mask.size())\n",
    "#         print(len(batch.src_lengths))\n",
    "#         print(len(batch.trg_lengths))\n",
    "        out, _, pre_output = model.forward(batch.src, batch.trg,\n",
    "                                           batch.src_mask, batch.trg_mask,\n",
    "                                           batch.src_lengths, batch.trg_lengths)\n",
    "#         print(out.size())\n",
    "#         print(pre_output.size())\n",
    "#         print(batch.trg_y.size())\n",
    "#         print(batch.nseqs)\n",
    "        loss = loss_compute(pre_output, batch.trg_y, batch.nseqs)\n",
    "        total_loss += loss\n",
    "        total_tokens += batch.ntokens\n",
    "        print_tokens += batch.ntokens\n",
    "        \n",
    "        if model.training and i % print_every == 0:\n",
    "            elapsed = time.time() - start\n",
    "            print(\"Epoch Step: %d Loss: %f Tokens per Sec: %f\" %\n",
    "                    (i, loss / batch.nseqs, print_tokens / elapsed))\n",
    "            start = time.time()\n",
    "            print_tokens = 0\n",
    "\n",
    "    return math.exp(total_loss / float(total_tokens))"
   ]
  },
  {
   "cell_type": "markdown",
   "metadata": {},
   "source": [
    "## Training Data and Batching\n",
    "\n",
    "We will use torch text for batching. This is discussed in more detail below. "
   ]
  },
  {
   "cell_type": "markdown",
   "metadata": {},
   "source": [
    "## Optimizer\n",
    "\n",
    "We will use the [Adam optimizer](https://arxiv.org/abs/1412.6980) with default settings ($\\beta_1=0.9$, $\\beta_2=0.999$ and $\\epsilon=10^{-8}$).\n",
    "\n",
    "We will use $0.0003$ as the learning rate here, but for different problems another learning rate may be more appropriate. You will have to tune that."
   ]
  },
  {
   "cell_type": "markdown",
   "metadata": {},
   "source": [
    "# A First  Example\n",
    "\n",
    "We can begin by trying out a simple copy-task. Given a random set of input symbols from a small vocabulary, the goal is to generate back those same symbols. "
   ]
  },
  {
   "cell_type": "markdown",
   "metadata": {},
   "source": [
    "## Synthetic Data"
   ]
  },
  {
   "cell_type": "code",
   "execution_count": 75,
   "metadata": {},
   "outputs": [],
   "source": [
    "def data_gen(num_words=11, batch_size=16, num_batches=100, length=10, pad_index=0, sos_index=1):\n",
    "    \"\"\"Generate random data for a src-tgt copy task.\"\"\"\n",
    "    for i in range(num_batches):\n",
    "        data = torch.from_numpy(\n",
    "          np.random.randint(1, num_words, size=(batch_size, length)))\n",
    "        data[:, 0] = sos_index\n",
    "        data = data.cuda(device=1) if USE_CUDA else data\n",
    "        src = data[:, 1:]\n",
    "        trg = data\n",
    "        src_lengths = [length-1] * batch_size\n",
    "        trg_lengths = [length] * batch_size\n",
    "        yield Batch((src, src_lengths), (trg, trg_lengths), pad_index=pad_index)"
   ]
  },
  {
   "cell_type": "markdown",
   "metadata": {},
   "source": [
    "## Loss Computation"
   ]
  },
  {
   "cell_type": "code",
   "execution_count": 76,
   "metadata": {},
   "outputs": [],
   "source": [
    "class SimpleLossCompute:\n",
    "    \"\"\"A simple loss compute and train function.\"\"\"\n",
    "\n",
    "    def __init__(self, generator, criterion, opt=None):\n",
    "        self.generator = generator\n",
    "        self.criterion = criterion\n",
    "        self.opt = opt\n",
    "\n",
    "    def __call__(self, x, y, norm):\n",
    "        x = self.generator(x)\n",
    "        loss = self.criterion(x.contiguous().view(-1, x.size(-1)),\n",
    "                              y.contiguous().view(-1))\n",
    "        loss = loss / norm\n",
    "#         print('Inside loss call', loss.item())\n",
    "#         print(x.size(), y.size())\n",
    "\n",
    "        if self.opt is not None:\n",
    "            loss.backward()          \n",
    "            self.opt.step()\n",
    "            self.opt.zero_grad()\n",
    "\n",
    "        return loss.data.item() * norm"
   ]
  },
  {
   "cell_type": "markdown",
   "metadata": {},
   "source": [
    "## Training the copy task"
   ]
  },
  {
   "cell_type": "code",
   "execution_count": 77,
   "metadata": {
    "scrolled": false
   },
   "outputs": [],
   "source": [
    "def train_copy_task():\n",
    "    \"\"\"Train the simple copy task.\"\"\"\n",
    "    num_words = len(word_to_index) + 2\n",
    "#     num_words = len(brown.words()) + 2\n",
    "#     criterion = nn.NLLLoss(reduction=\"sum\", ignore_index=0)\n",
    "    criterion = nn.CrossEntropyLoss(ignore_index=0)\n",
    "    model = make_model(num_words, num_words, emb_size=300, hidden_size=64)\n",
    "    optim = torch.optim.Adam(model.parameters(), lr=0.001)\n",
    "    #eval_data = list(data_gen1(num_words=num_words, batch_size=1, num_batches=100))#Batch object\n",
    "    dev_perplexities = []\n",
    "    \n",
    "    if USE_CUDA:\n",
    "        model.cuda(device=1)\n",
    "\n",
    "    for epoch in range(20):\n",
    "        \n",
    "        print(\"Epoch %d\" % epoch)\n",
    "\n",
    "        # train\n",
    "        model.train()\n",
    "        data = data_gen1(list_of_sents_src_train, list_of_sents_trg_train, num_words=num_words, batch_size=16, num_batches=100)\n",
    "        trained_perplexity= run_epoch(data, model,\n",
    "                  SimpleLossCompute(model.generator, criterion, optim))\n",
    "        print(trained_perplexity)\n",
    "    return model  \n",
    "\n",
    "        # evaluate\n",
    "#         model.eval()\n",
    "#         with torch.no_grad(): \n",
    "#             perplexity = run_epoch(eval_data, model,\n",
    "#                                    SimpleLossCompute(model.generator, criterion, None))\n",
    "#             print(\"Evaluation perplexity: %f\" % perplexity)\n",
    "#             dev_perplexities.append(perplexity)\n",
    "#             print_examples(eval_data, model, n=2, max_len=9)\n",
    "      \n",
    "#     return dev_perplexities"
   ]
  },
  {
   "cell_type": "code",
   "execution_count": 78,
   "metadata": {},
   "outputs": [
    {
     "name": "stderr",
     "output_type": "stream",
     "text": [
      "/home/development/kevin/installations/anaconda3/lib/python3.5/site-packages/torch/nn/modules/rnn.py:46: UserWarning: dropout option adds dropout after all but last recurrent layer, so non-zero dropout expects num_layers greater than 1, but got dropout=0.1 and num_layers=1\n",
      "  \"num_layers={}\".format(dropout, num_layers))\n"
     ]
    },
    {
     "name": "stdout",
     "output_type": "stream",
     "text": [
      "Epoch 0\n",
      "Epoch Step: 50 Loss: 0.271263 Tokens per Sec: 2718.308029\n",
      "Epoch Step: 100 Loss: 0.157172 Tokens per Sec: 2713.030990\n",
      "1.019893199833318\n",
      "Epoch 1\n",
      "Epoch Step: 50 Loss: 0.044570 Tokens per Sec: 3269.053057\n",
      "Epoch Step: 100 Loss: 0.015651 Tokens per Sec: 2908.837636\n",
      "1.003820795536479\n",
      "Epoch 2\n",
      "Epoch Step: 50 Loss: 0.007457 Tokens per Sec: 3200.240146\n",
      "Epoch Step: 100 Loss: 0.004152 Tokens per Sec: 2931.833668\n",
      "1.0008570813023527\n",
      "Epoch 3\n",
      "Epoch Step: 50 Loss: 0.003159 Tokens per Sec: 2708.660193\n",
      "Epoch Step: 100 Loss: 0.002183 Tokens per Sec: 3191.661970\n",
      "1.0004910797209092\n",
      "Epoch 4\n",
      "Epoch Step: 50 Loss: 0.001611 Tokens per Sec: 2984.421200\n",
      "Epoch Step: 100 Loss: 0.001031 Tokens per Sec: 2795.490860\n",
      "1.0003681212902642\n",
      "Epoch 5\n",
      "Epoch Step: 50 Loss: 0.000857 Tokens per Sec: 3224.975261\n",
      "Epoch Step: 100 Loss: 0.000612 Tokens per Sec: 3313.418959\n",
      "1.000296462012745\n",
      "Epoch 6\n",
      "Epoch Step: 50 Loss: 0.000658 Tokens per Sec: 3359.890601\n",
      "Epoch Step: 100 Loss: 0.000439 Tokens per Sec: 3303.899605\n",
      "1.0002702096652176\n",
      "Epoch 7\n",
      "Epoch Step: 50 Loss: 0.000411 Tokens per Sec: 3339.752004\n",
      "Epoch Step: 100 Loss: 0.000290 Tokens per Sec: 3369.070133\n",
      "1.0002190734019099\n",
      "Epoch 8\n",
      "Epoch Step: 50 Loss: 0.000339 Tokens per Sec: 3388.406791\n",
      "Epoch Step: 100 Loss: 0.000247 Tokens per Sec: 3000.190548\n",
      "1.0001754864316352\n",
      "Epoch 9\n",
      "Epoch Step: 50 Loss: 0.000290 Tokens per Sec: 3306.678582\n",
      "Epoch Step: 100 Loss: 0.000184 Tokens per Sec: 2977.997565\n",
      "1.0001198370637119\n",
      "Epoch 10\n",
      "Epoch Step: 50 Loss: 0.000267 Tokens per Sec: 2830.800829\n",
      "Epoch Step: 100 Loss: 0.000170 Tokens per Sec: 2808.846248\n",
      "1.0000934268415569\n",
      "Epoch 11\n",
      "Epoch Step: 50 Loss: 0.000186 Tokens per Sec: 2821.727989\n",
      "Epoch Step: 100 Loss: 0.000134 Tokens per Sec: 2607.082805\n",
      "1.000078368096242\n",
      "Epoch 12\n",
      "Epoch Step: 50 Loss: 0.000136 Tokens per Sec: 2660.661379\n",
      "Epoch Step: 100 Loss: 0.000099 Tokens per Sec: 2529.757073\n",
      "1.000069473137577\n",
      "Epoch 13\n",
      "Epoch Step: 50 Loss: 0.000145 Tokens per Sec: 2847.614912\n",
      "Epoch Step: 100 Loss: 0.000093 Tokens per Sec: 2781.554392\n",
      "1.0000686039812523\n",
      "Epoch 14\n",
      "Epoch Step: 50 Loss: 0.000103 Tokens per Sec: 2719.876466\n",
      "Epoch Step: 100 Loss: 0.000080 Tokens per Sec: 2721.491760\n",
      "1.0000464403452562\n",
      "Epoch 15\n",
      "Epoch Step: 50 Loss: 0.000084 Tokens per Sec: 2915.644104\n",
      "Epoch Step: 100 Loss: 0.000072 Tokens per Sec: 2903.101208\n",
      "1.0000357019147696\n",
      "Epoch 16\n",
      "Epoch Step: 50 Loss: 0.000081 Tokens per Sec: 2673.276486\n",
      "Epoch Step: 100 Loss: 0.000063 Tokens per Sec: 2692.876074\n",
      "1.000029905007902\n",
      "Epoch 17\n",
      "Epoch Step: 50 Loss: 0.000060 Tokens per Sec: 2861.590815\n",
      "Epoch Step: 100 Loss: 0.000053 Tokens per Sec: 2746.685798\n",
      "1.0000249416768492\n",
      "Epoch 18\n",
      "Epoch Step: 50 Loss: 0.000057 Tokens per Sec: 2680.524303\n",
      "Epoch Step: 100 Loss: 0.000045 Tokens per Sec: 2718.517184\n",
      "1.0000225911222942\n",
      "Epoch 19\n",
      "Epoch Step: 50 Loss: 0.000053 Tokens per Sec: 2643.668345\n",
      "Epoch Step: 100 Loss: 0.000034 Tokens per Sec: 2580.109865\n",
      "1.0000202551084332\n"
     ]
    }
   ],
   "source": [
    "model = train_copy_task()\n",
    "# data = data_gen1(num_words=num_words, batch_size=32, num_batches=100)"
   ]
  },
  {
   "cell_type": "code",
   "execution_count": 79,
   "metadata": {},
   "outputs": [],
   "source": [
    "def get_argmax(probs, input_list):\n",
    "#     print(probs)\n",
    "    max_val = -np.Inf\n",
    "    max_candidate = None\n",
    "    for index in input_list:\n",
    "        if max_val < probs[index]:\n",
    "            max_val = probs[index]\n",
    "            max_candidate = index\n",
    "    return max_candidate"
   ]
  },
  {
   "cell_type": "code",
   "execution_count": 80,
   "metadata": {},
   "outputs": [],
   "source": [
    "# Checking training example"
   ]
  },
  {
   "cell_type": "code",
   "execution_count": 81,
   "metadata": {},
   "outputs": [],
   "source": [
    "num_words = len(word_to_index) + 2\n",
    "data = data_gen1(list_of_sents_src_train, list_of_sents_trg_train, num_words=num_words, batch_size=32, num_batches=100)\n",
    "# model()\n",
    "for i, batch in enumerate(data, 1):\n",
    "    out, _, pre_output = model.forward(batch.src, batch.trg,\n",
    "                                           batch.src_mask, batch.trg_mask,\n",
    "                                           batch.src_lengths, batch.trg_lengths)\n",
    "    break"
   ]
  },
  {
   "cell_type": "code",
   "execution_count": 82,
   "metadata": {},
   "outputs": [],
   "source": [
    "pre_output_vocab = model.generator(pre_output)"
   ]
  },
  {
   "cell_type": "code",
   "execution_count": 83,
   "metadata": {},
   "outputs": [
    {
     "data": {
      "text/plain": [
       "torch.Size([32, 30, 56059])"
      ]
     },
     "execution_count": 83,
     "metadata": {},
     "output_type": "execute_result"
    }
   ],
   "source": [
    "pre_output_vocab.size()"
   ]
  },
  {
   "cell_type": "code",
   "execution_count": 84,
   "metadata": {},
   "outputs": [
    {
     "data": {
      "text/plain": [
       "torch.Size([32, 30, 56059])"
      ]
     },
     "execution_count": 84,
     "metadata": {},
     "output_type": "execute_result"
    }
   ],
   "source": [
    "pre_output_vocab.size()"
   ]
  },
  {
   "cell_type": "code",
   "execution_count": 85,
   "metadata": {},
   "outputs": [
    {
     "name": "stdout",
     "output_type": "stream",
     "text": [
      "['Belleville', 'If', 'any', 'among', 'the', 'hardy', 'hundreds', 'who', 'sat', 'in', 'the', 'downpour', 'are', 'in', 'doubt', 'about', 'how', 'it', 'comes', 'out', ',', 'let', 'them', 'take', 'comfort', '.', 'Basement', 'Basement', 'Basement', 'Basement', 'Basement'] 31\n"
     ]
    }
   ],
   "source": [
    "probs = pre_output_vocab[0,1,:].cpu().detach().numpy().tolist()#first sent, 2nd word, all prob distribution.\n",
    "input_list = batch.trg[5].cpu().detach().numpy().tolist()\n",
    "input_words = []\n",
    "for w in input_list:\n",
    "    input_words.append(index_to_word[w-2])\n",
    "print(input_words,len(input_words))"
   ]
  },
  {
   "cell_type": "code",
   "execution_count": 86,
   "metadata": {},
   "outputs": [
    {
     "name": "stdout",
     "output_type": "stream",
     "text": [
      "[',', 'If', 'about', 'among', 'any', 'are', 'comes', 'comfort', 'doubt', 'downpour', 'hardy', 'how', 'hundreds', 'in', 'in', 'it', 'let', 'out', 'sat', 'take', 'the', 'the', 'them', 'who', '.', 'Basement', 'Basement', 'Basement', 'Basement', 'Basement'] 30\n"
     ]
    }
   ],
   "source": [
    "probs = pre_output_vocab[0,1,:].cpu().detach().numpy().tolist()#first sent, 2nd word, all prob distribution.\n",
    "input_list = batch.src[5].cpu().detach().numpy().tolist()\n",
    "input_words = []\n",
    "for w in input_list:\n",
    "    input_words.append(index_to_word[w-2])\n",
    "print(input_words,len(input_words))"
   ]
  },
  {
   "cell_type": "code",
   "execution_count": 88,
   "metadata": {},
   "outputs": [
    {
     "name": "stdout",
     "output_type": "stream",
     "text": [
      "If any among the hardy hundreds who sat in the downpour are in doubt about how it comes out , let them take comfort . Basement Basement Basement Basement Basement "
     ]
    }
   ],
   "source": [
    "input_list = batch.src[5].cpu().detach().numpy().tolist()\n",
    "for i in range(30):\n",
    "    probs =pre_output_vocab[5,i,:].cpu().detach().numpy().tolist()\n",
    "    cur_candidate = get_argmax(probs, input_list)\n",
    "    print(index_to_word[cur_candidate-2], end=' ')\n",
    "    input_list.remove(cur_candidate)"
   ]
  },
  {
   "cell_type": "code",
   "execution_count": 77,
   "metadata": {},
   "outputs": [],
   "source": [
    "# Checking test example"
   ]
  },
  {
   "cell_type": "code",
   "execution_count": 54,
   "metadata": {},
   "outputs": [],
   "source": [
    "num_words = len(word_to_index) + 2\n",
    "data = data_gen1(list_of_sents_src_test, list_of_sents_trg_test, num_words=num_words, batch_size=32, num_batches=100)\n",
    "# model()\n",
    "for i, batch in enumerate(data, 1):\n",
    "    out, _, pre_output = model.forward(batch.src, batch.trg,\n",
    "                                           batch.src_mask, batch.trg_mask,\n",
    "                                           batch.src_lengths, batch.trg_lengths)\n",
    "    break"
   ]
  },
  {
   "cell_type": "code",
   "execution_count": 55,
   "metadata": {},
   "outputs": [],
   "source": [
    "pre_output_vocab = model.generator(pre_output)"
   ]
  },
  {
   "cell_type": "code",
   "execution_count": 56,
   "metadata": {},
   "outputs": [
    {
     "data": {
      "text/plain": [
       "torch.Size([32, 30, 56059])"
      ]
     },
     "execution_count": 56,
     "metadata": {},
     "output_type": "execute_result"
    }
   ],
   "source": [
    "pre_output_vocab.size()"
   ]
  },
  {
   "cell_type": "code",
   "execution_count": 29,
   "metadata": {},
   "outputs": [
    {
     "data": {
      "text/plain": [
       "torch.Size([32, 30, 56059])"
      ]
     },
     "execution_count": 29,
     "metadata": {},
     "output_type": "execute_result"
    }
   ],
   "source": [
    "pre_output_vocab.size()"
   ]
  },
  {
   "cell_type": "code",
   "execution_count": 38,
   "metadata": {},
   "outputs": [
    {
     "name": "stdout",
     "output_type": "stream",
     "text": [
      "['Belleville', 'Only', 'in', 'one', 'instance', 'have', 'we', 'moved', 'purposively', 'and', 'effectively', 'to', 'dislodge', 'existing', 'Communist', 'power', ':', 'in', 'Guatemala', '.', 'Basement', 'Basement', 'Basement', 'Basement', 'Basement', 'Basement'] 26\n"
     ]
    }
   ],
   "source": [
    "probs = pre_output_vocab[0,1,:].cpu().detach().numpy().tolist()#first sent, 2nd word, all prob distribution.\n",
    "input_list = batch.trg[5].cpu().detach().numpy().tolist()\n",
    "input_words = []\n",
    "for w in input_list:\n",
    "    input_words.append(index_to_word[w-2])\n",
    "print(input_words,len(input_words))"
   ]
  },
  {
   "cell_type": "code",
   "execution_count": 39,
   "metadata": {},
   "outputs": [
    {
     "name": "stdout",
     "output_type": "stream",
     "text": [
      "[':', 'Communist', 'Guatemala', 'Only', 'and', 'dislodge', 'effectively', 'existing', 'have', 'in', 'in', 'instance', 'moved', 'one', 'power', 'purposively', 'to', 'we', '.', 'Basement', 'Basement', 'Basement', 'Basement', 'Basement', 'Basement'] 25\n"
     ]
    }
   ],
   "source": [
    "probs = pre_output_vocab[0,1,:].cpu().detach().numpy().tolist()#first sent, 2nd word, all prob distribution.\n",
    "input_list = batch.src[5].cpu().detach().numpy().tolist()\n",
    "input_words = []\n",
    "for w in input_list:\n",
    "    input_words.append(index_to_word[w-2])\n",
    "print(input_words,len(input_words))"
   ]
  },
  {
   "cell_type": "code",
   "execution_count": 50,
   "metadata": {},
   "outputs": [
    {
     "name": "stdout",
     "output_type": "stream",
     "text": [
      "Only effectively in in we moved and . to have : Guatemala Communist purposively existing dislodge instance one power Basement Basement Basement Basement Basement Basement "
     ]
    },
    {
     "ename": "IndexError",
     "evalue": "index 25 is out of bounds for dimension 0 with size 25",
     "output_type": "error",
     "traceback": [
      "\u001b[0;31m---------------------------------------------------------------------------\u001b[0m",
      "\u001b[0;31mIndexError\u001b[0m                                Traceback (most recent call last)",
      "\u001b[0;32m<ipython-input-50-60b61e983369>\u001b[0m in \u001b[0;36m<module>\u001b[0;34m()\u001b[0m\n\u001b[1;32m      1\u001b[0m \u001b[0minput_list\u001b[0m \u001b[0;34m=\u001b[0m \u001b[0mbatch\u001b[0m\u001b[0;34m.\u001b[0m\u001b[0msrc\u001b[0m\u001b[0;34m[\u001b[0m\u001b[0;36m5\u001b[0m\u001b[0;34m]\u001b[0m\u001b[0;34m.\u001b[0m\u001b[0mcpu\u001b[0m\u001b[0;34m(\u001b[0m\u001b[0;34m)\u001b[0m\u001b[0;34m.\u001b[0m\u001b[0mdetach\u001b[0m\u001b[0;34m(\u001b[0m\u001b[0;34m)\u001b[0m\u001b[0;34m.\u001b[0m\u001b[0mnumpy\u001b[0m\u001b[0;34m(\u001b[0m\u001b[0;34m)\u001b[0m\u001b[0;34m.\u001b[0m\u001b[0mtolist\u001b[0m\u001b[0;34m(\u001b[0m\u001b[0;34m)\u001b[0m\u001b[0;34m\u001b[0m\u001b[0m\n\u001b[1;32m      2\u001b[0m \u001b[0;32mfor\u001b[0m \u001b[0mi\u001b[0m \u001b[0;32min\u001b[0m \u001b[0mrange\u001b[0m\u001b[0;34m(\u001b[0m\u001b[0;36m26\u001b[0m\u001b[0;34m)\u001b[0m\u001b[0;34m:\u001b[0m\u001b[0;34m\u001b[0m\u001b[0m\n\u001b[0;32m----> 3\u001b[0;31m     \u001b[0mprobs\u001b[0m \u001b[0;34m=\u001b[0m \u001b[0mpre_output_vocab\u001b[0m\u001b[0;34m[\u001b[0m\u001b[0;36m0\u001b[0m\u001b[0;34m,\u001b[0m\u001b[0mi\u001b[0m\u001b[0;34m,\u001b[0m\u001b[0;34m:\u001b[0m\u001b[0;34m]\u001b[0m\u001b[0;34m.\u001b[0m\u001b[0mcpu\u001b[0m\u001b[0;34m(\u001b[0m\u001b[0;34m)\u001b[0m\u001b[0;34m.\u001b[0m\u001b[0mdetach\u001b[0m\u001b[0;34m(\u001b[0m\u001b[0;34m)\u001b[0m\u001b[0;34m.\u001b[0m\u001b[0mnumpy\u001b[0m\u001b[0;34m(\u001b[0m\u001b[0;34m)\u001b[0m\u001b[0;34m.\u001b[0m\u001b[0mtolist\u001b[0m\u001b[0;34m(\u001b[0m\u001b[0;34m)\u001b[0m\u001b[0;34m\u001b[0m\u001b[0m\n\u001b[0m\u001b[1;32m      4\u001b[0m     \u001b[0mcur_candidate\u001b[0m \u001b[0;34m=\u001b[0m \u001b[0mget_argmax\u001b[0m\u001b[0;34m(\u001b[0m\u001b[0mprobs\u001b[0m\u001b[0;34m,\u001b[0m \u001b[0minput_list\u001b[0m\u001b[0;34m)\u001b[0m\u001b[0;34m\u001b[0m\u001b[0m\n\u001b[1;32m      5\u001b[0m     \u001b[0mprint\u001b[0m\u001b[0;34m(\u001b[0m\u001b[0mindex_to_word\u001b[0m\u001b[0;34m[\u001b[0m\u001b[0mcur_candidate\u001b[0m\u001b[0;34m-\u001b[0m\u001b[0;36m2\u001b[0m\u001b[0;34m]\u001b[0m\u001b[0;34m,\u001b[0m \u001b[0mend\u001b[0m\u001b[0;34m=\u001b[0m\u001b[0;34m' '\u001b[0m\u001b[0;34m)\u001b[0m\u001b[0;34m\u001b[0m\u001b[0m\n",
      "\u001b[0;31mIndexError\u001b[0m: index 25 is out of bounds for dimension 0 with size 25"
     ]
    }
   ],
   "source": [
    "input_list = batch.src[5].cpu().detach().numpy().tolist()\n",
    "for i in range(26):\n",
    "    probs = pre_output_vocab[0,i,:].cpu().detach().numpy().tolist()\n",
    "    cur_candidate = get_argmax(probs, input_list)\n",
    "    print(index_to_word[cur_candidate-2], end=' ')\n",
    "    input_list.remove(cur_candidate)"
   ]
  },
  {
   "cell_type": "code",
   "execution_count": null,
   "metadata": {},
   "outputs": [],
   "source": [
    "print(get_argmax(pre_output_vocab[0,1,:].cpu().detach().numpy().tolist(), batch.trg[0].cpu().detach().numpy().tolist()))"
   ]
  },
  {
   "cell_type": "code",
   "execution_count": null,
   "metadata": {},
   "outputs": [],
   "source": [
    "for i in range(0, 10):\n",
    "    print(get_argmax(pre_output_vocab[0,i,:].cpu().detach().numpy().tolist(), batch.trg[0].cpu().detach().numpy().tolist()))"
   ]
  },
  {
   "cell_type": "markdown",
   "metadata": {},
   "source": [
    "## create files"
   ]
  },
  {
   "cell_type": "code",
   "execution_count": 92,
   "metadata": {
    "scrolled": false
   },
   "outputs": [],
   "source": [
    "num_words = len(word_to_index) + 2\n",
    "data = data_gen1(list_of_sents_src_train, list_of_sents_trg_train, num_words=num_words, batch_size=32, num_batches=100)\n",
    "# model()\n",
    "for i, batch in enumerate(data, 1):\n",
    "    out, _, pre_output = model.forward(batch.src, batch.trg,\n",
    "                                           batch.src_mask, batch.trg_mask,\n",
    "                                           batch.src_lengths, batch.trg_lengths)\n",
    "    pre_output_vocab = model.generator(pre_output)\n",
    "    for j in range(len(batch.trg)):\n",
    "        input_list = batch.trg[j].cpu().detach().numpy().tolist()\n",
    "        input_words = ''\n",
    "        for w in input_list:\n",
    "            input_words +=index_to_word[w-2]+' '\n",
    "        file_name = 'results/target_op/'+'batch_'+str(i)+'_sent_'+str(j)+'.txt'\n",
    "        f = open(file_name, \"w\")\n",
    "        f.write(input_words)\n",
    "        f.close()\n",
    "        \n",
    "        input_list = batch.src[j].cpu().detach().numpy().tolist()\n",
    "        input_words = ''\n",
    "        for w in input_list:\n",
    "            input_words +=index_to_word[w-2]+' '\n",
    "        file_name = 'results/input/'+'batch_'+str(i)+'_sent_'+str(j)+'.txt'\n",
    "        f = open(file_name, \"w\")\n",
    "        f.write(input_words)\n",
    "        f.close()\n",
    "        \n",
    "        input_list = batch.src[j].cpu().detach().numpy().tolist()\n",
    "        input_words = ''\n",
    "        for k in range(29):\n",
    "            probs = pre_output_vocab[j,k,:].cpu().detach().numpy().tolist()\n",
    "            cur_candidate = get_argmax(probs, input_list)\n",
    "            input_words += index_to_word[cur_candidate-2] + ' '\n",
    "            #print(index_to_word[cur_candidate-2], end=' ')\n",
    "            input_list.remove(cur_candidate)\n",
    "        file_name = 'results/actual_op/'+'batch_'+str(i)+'_sent_'+str(j)+'.txt'\n",
    "        f = open(file_name, \"w\")\n",
    "        f.write(input_words)\n",
    "        f.close()"
   ]
  }
 ],
 "metadata": {
  "kernelspec": {
   "display_name": "Python [anaconda3]",
   "language": "python",
   "name": "Python [anaconda3]"
  },
  "language_info": {
   "codemirror_mode": {
    "name": "ipython",
    "version": 3
   },
   "file_extension": ".py",
   "mimetype": "text/x-python",
   "name": "python",
   "nbconvert_exporter": "python",
   "pygments_lexer": "ipython3",
   "version": "3.5.2"
  }
 },
 "nbformat": 4,
 "nbformat_minor": 2
}
